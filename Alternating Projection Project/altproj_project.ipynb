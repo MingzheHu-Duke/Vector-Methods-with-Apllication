{
 "cells": [
  {
   "cell_type": "markdown",
   "metadata": {},
   "source": [
    "Implement the function stubs in altproj_code.py and complete lines with \"###\""
   ]
  },
  {
   "cell_type": "code",
   "execution_count": 1,
   "metadata": {
    "ExecuteTime": {
     "end_time": "2018-11-24T20:25:25.023369Z",
     "start_time": "2018-11-24T20:25:25.017077Z"
    }
   },
   "outputs": [],
   "source": [
    "import numpy as np\n",
    "import pandas as pd\n",
    "import matplotlib.pyplot as plt\n",
    "%matplotlib inline\n",
    "\n",
    "from numpy.random import rand, randn\n",
    "from scipy.linalg import inv, svd\n",
    "from scipy.optimize import linprog\n",
    "from tqdm import tqdm_notebook as tqdm\n",
    "\n",
    "#from altproj_code import null_space, altproj, lp_altproj, kaczmarz"
   ]
  },
  {
   "cell_type": "markdown",
   "metadata": {},
   "source": [
    "### Exercise 1\n",
    "(10 pts program + 5 pts solution)\n",
    "Let $U$ and $W$ be subspaces of $\\mathbb{R}^5$ that are spanned, respectively, by the columns of the matrices $A$ and $B$ (shown below). \n",
    "Write a function `altproj(A,B,v0,n)` that returns $\\underline{v}_{2n}$ after $2n$ steps of alternating projection onto $U$ and $W$ starting from $\\underline{v}_0$. \n",
    "Use this function to find the orthogonal projection of $\\underline{v}_0$ (shown below) onto $ U \\cap W $. How large should $n$ be chosen so that the projection is correct to 4 decimal places (e.g., absolute error at most 0.0001 in each coordinate)?\n",
    "$$\n",
    "A = \n",
    "\\begin{bmatrix}\n",
    " 3 & 2 & 3 \\\\ 1 & 5 & 7 \\\\ 4 & 11 & 13 \\\\ 1 & 17 & 19 \\\\ 5 & 23 & 29\n",
    "\\end{bmatrix}, \\qquad\n",
    "B = \n",
    "\\begin{bmatrix}\n",
    " 1 & 1 & 2.5 \\\\ 2 & 0 & 6 \\\\ 2 & 1 & 12 \\\\ 2 & 0 & 18 \\\\ 6 & -3 & 26\n",
    "\\end{bmatrix}, \\qquad\n",
    "\\underline{v}_0 =\n",
    "\\begin{bmatrix}\n",
    " 1 \\\\2 \\\\ 3 \\\\ 4 \\\\ 5\n",
    "\\end{bmatrix}\n",
    "$$\n",
    "To find the intersection of $U$ and $W$, we note that the following Python snippet returns a matrix whose columns span $ U \\cap W $\n",
    "```\n",
    "basis_UintW = np.hstack([A, B]) @ null_space(np.hstack([A, -B])) \n",
    "```"
   ]
  },
  {
   "cell_type": "code",
   "execution_count": 15,
   "metadata": {
    "ExecuteTime": {
     "end_time": "2018-11-24T20:17:18.677058Z",
     "start_time": "2018-11-24T20:17:17.065164Z"
    }
   },
   "outputs": [
    {
     "data": {
      "application/vnd.jupyter.widget-view+json": {
       "model_id": "",
       "version_major": 2,
       "version_minor": 0
      },
      "text/plain": [
       "HBox(children=(IntProgress(value=0, max=40), HTML(value='')))"
      ]
     },
     "metadata": {},
     "output_type": "display_data"
    },
    {
     "name": "stdout",
     "output_type": "stream",
     "text": [
      "\r",
      "altproj Example 1 err:\n",
      " [2.02213468e-01 1.12923749e-01 6.30609488e-02 3.52156503e-02\n",
      " 1.96657686e-02 1.09821188e-02 6.13283595e-03 3.42481060e-03\n",
      " 1.91254548e-03 1.06803868e-03 5.96433727e-04 3.33071448e-04\n",
      " 1.85999860e-04 1.03869449e-04 5.80046807e-05 3.23920364e-05\n",
      " 1.80889544e-05 1.01015653e-05 5.64110112e-06 3.15020701e-06]\n",
      "altproj Example 1:v\n",
      " [0.52442269 1.26461352 2.55925049 3.85388314 5.52001383] \n",
      "\n"
     ]
    },
    {
     "data": {
      "text/plain": [
       "[<matplotlib.lines.Line2D at 0x101735f350>]"
      ]
     },
     "execution_count": 15,
     "metadata": {},
     "output_type": "execute_result"
    },
    {
     "data": {
      "image/png": "[encoded data removed]",
      "text/plain": [
       "<Figure size 576x432 with 1 Axes>"
      ]
     },
     "metadata": {
      "needs_background": "light"
     },
     "output_type": "display_data"
    }
   ],
   "source": [
    "def null_space(A, rcond=None):\n",
    "    u, s, vh = svd(A, full_matrices=True)\n",
    "    M, N = u.shape[0], vh.shape[1]\n",
    "    if rcond is None:\n",
    "        rcond = np.finfo(s.dtype).eps * max(M, N)\n",
    "    tol = np.amax(s) * rcond\n",
    "    num = np.sum(s > tol, dtype=int)\n",
    "    Q = vh[num:,:].T.conj()\n",
    "    return Q\n",
    "def altproj(A, B, v0, n):\n",
    "    \"\"\"\n",
    "    Arguments:\n",
    "        A {numpy.ndarray} -- matrix whose columns form basis for subspace U\n",
    "        B {numpy.ndarray} -- matrix whose columns form baiss for subspace W\n",
    "        v0 {numpy.ndarray} -- initialization vector\n",
    "        n {int} -- number of sweeps for alternating projection\n",
    "    Returns:\n",
    "        v {numpy.ndarray} -- the output after 2n steps of alternating projection\n",
    "        err {numpy.ndarray} -- the error after each full pass\n",
    "    \"\"\"\n",
    "    \n",
    "    ### Add code here\n",
    "\n",
    "    PU = np.dot(A,np.dot((np.linalg.inv((A.T).dot(A))),A.T))\n",
    "    PW = np.dot(B,np.dot((np.linalg.inv((B.T).dot(B))),B.T))\n",
    "    basis_UintW = np.concatenate((A, B),axis=1) @ null_space(np.concatenate((A, -B),axis=1))\n",
    "    P_UintW = np.dot(basis_UintW,np.dot((np.linalg.inv((basis_UintW.T).dot(basis_UintW))),basis_UintW.T))\n",
    "    vs = np.matmul(P_UintW, v0)\n",
    "    v= v0\n",
    "    err=np.zeros(n)\n",
    "    for t in tqdm(range(2*n), total=2*n, leave=False):\n",
    "        if(t)%2==0:\n",
    "            v=np.dot(PU,v)\n",
    "        else:\n",
    "            v=np.dot(PW,v)\n",
    "        if(t+1)%2==0:\n",
    "            err[t // 2] = np.amax(abs(v - vs))\n",
    "    return v, err\n",
    "A = np.array([[3, 1, 4, 1, 5], [2, 5, 11, 17, 23], [3, 7, 13, 19, 29]]).T\n",
    "B = np.array([[1, 2, 2, 2, 6], [1, 0, 1, 0, -3], [2.5, 6, 12, 18, 26]]).T\n",
    "v0 = np.array([1, 2, 3, 4, 5])\n",
    "n = 20\n",
    "v, err = altproj(A, B, v0, n)\n",
    "print(\"altproj Example 1 err:\\n\",err)\n",
    "print(\"altproj Example 1:v\\n\",v,\"\\n\")\n",
    "\n",
    "plt.figure(figsize=(8, 6))\n",
    "plt.semilogy(np.arange(1, n + 1), err)"
   ]
  },
  {
   "cell_type": "markdown",
   "metadata": {},
   "source": [
    "### Exercise 2\n",
    "(10 pts program + 5 pts solution)\n",
    "Write a function `kaczmarz(A,b,I)` that returns a matrix $X$ with $I$ columns corresponding\n",
    "to the Kaczmarz iteration after $i = 1, 2, ..., I$ full passes through the Kaczmarz algorithm\n",
    "for the matrix $A$ and right-hand side $\\underline{b}$ (e.g., one full pass equals $m$ steps). \n",
    "Use this function to find the minimum-norm solution of linear system $A \\underline{x} = \\underline{b}$ for\n",
    "$$\n",
    "A = \n",
    "\\begin{bmatrix}\n",
    " 2 & 5 & 11 & 17 & 23 \\\\ 3 & 7 & 13 & 19 & 29\n",
    "\\end{bmatrix}, \\qquad\n",
    "\\underline{b} =\n",
    "\\begin{bmatrix}\n",
    " 228 \\\\ 227\n",
    "\\end{bmatrix}\n",
    "$$\n",
    "Plot the error (on a log scale) versus the number of full passes for $I = 500$."
   ]
  },
  {
   "cell_type": "code",
   "execution_count": 19,
   "metadata": {
    "ExecuteTime": {
     "end_time": "2018-11-24T20:26:45.384446Z",
     "start_time": "2018-11-24T20:26:44.227830Z"
    }
   },
   "outputs": [
    {
     "data": {
      "application/vnd.jupyter.widget-view+json": {
       "model_id": "",
       "version_major": 2,
       "version_minor": 0
      },
      "text/plain": [
       "HBox(children=(IntProgress(value=0, max=1000), HTML(value='')))"
      ]
     },
     "metadata": {},
     "output_type": "display_data"
    },
    {
     "name": "stdout",
     "output_type": "stream",
     "text": [
      "\r"
     ]
    },
    {
     "data": {
      "text/plain": [
       "[<matplotlib.lines.Line2D at 0x101733eb10>]"
      ]
     },
     "execution_count": 19,
     "metadata": {},
     "output_type": "execute_result"
    },
    {
     "data": {
      "image/png": "[encoded data removed]",
      "text/plain": [
       "<Figure size 576x432 with 1 Axes>"
      ]
     },
     "metadata": {
      "needs_background": "light"
     },
     "output_type": "display_data"
    }
   ],
   "source": [
    "def kaczmarz(A, b, I):\n",
    "    \"\"\"\n",
    "    Arguments:\n",
    "        A {numpy.ndarray} -- matrix defines the LHS of linear equation\n",
    "        b {numpy.ndarray} -- vector defines the RHS of linear equation\n",
    "        I {int} -- number of full passes through the Kaczmarz algorithm\n",
    "    Returns:\n",
    "        X {numpy.ndarray} -- the output of all I full passes\n",
    "        err {numpy.ndarray} -- the error after each full pass\n",
    "    \"\"\"\n",
    "    \n",
    "    ### Add code here\n",
    "    m,n=A.shape\n",
    "    v= np.zeros(n) \n",
    "    X=np.zeros((n, I))\n",
    "    err=np.zeros(I)\n",
    "    vs=np.dot(np.dot(A.T,(np.linalg.inv(A.dot(A.T)))),b)\n",
    "    for i in tqdm(range(I*m), total=I*m, leave=False):   \n",
    "        ai = A[i%m]\n",
    "        bi = b[i%m]\n",
    "        #v = v - (np.sum(np.multiply(v,ai)) - bi)/np.sum(np.square(ai))*ai\n",
    "        v = v-np.dot(ai,(np.dot(v,ai)-bi)/(np.dot(ai,ai)))\n",
    "        if(i+1)%m==0:\n",
    "            #err[i // m] =np.sum(np.square(v-v_star))\n",
    "            err[i // m] = np.amax(abs(np.dot(A,v)-b))\n",
    "            #err[i // m] = np.amax(abs(np.dot(A,v)-b))\n",
    "            X[:,i // m] = v.T\n",
    "    return X, err\n",
    "A = np.array([[2, 5, 11, 17, 23], [3, 7, 13, 19, 29]])\n",
    "b = np.array([228, 227])\n",
    "I = 500\n",
    "X, err = kaczmarz(A, b, I)\n",
    "\n",
    "plt.figure(figsize=(8, 6))\n",
    "plt.semilogy(np.arange(1, I + 1), err)"
   ]
  },
  {
   "cell_type": "markdown",
   "metadata": {},
   "source": [
    "### Exercise 3\n",
    "(10 pts)\n",
    "Repeat the experiment with $I = 100$ for a random system defined by `A = randn(500,1000)`\n",
    "and `b = A @ randn(1000)`. \n",
    "Compare the iterative solution with the true minimum-norm solution \n",
    "$ \\hat{\\underline{x}} = A^H {(A A^H)}^{-1} \\underline{b} $."
   ]
  },
  {
   "cell_type": "code",
   "execution_count": 21,
   "metadata": {
    "ExecuteTime": {
     "end_time": "2018-11-24T20:18:17.012640Z",
     "start_time": "2018-11-24T20:18:14.991772Z"
    }
   },
   "outputs": [
    {
     "data": {
      "application/vnd.jupyter.widget-view+json": {
       "model_id": "",
       "version_major": 2,
       "version_minor": 0
      },
      "text/plain": [
       "HBox(children=(IntProgress(value=0, max=50000), HTML(value='')))"
      ]
     },
     "metadata": {},
     "output_type": "display_data"
    },
    {
     "name": "stdout",
     "output_type": "stream",
     "text": [
      "\r"
     ]
    },
    {
     "data": {
      "image/png": "[encoded data removed]",
      "text/plain": [
       "<Figure size 576x432 with 1 Axes>"
      ]
     },
     "metadata": {
      "needs_background": "light"
     },
     "output_type": "display_data"
    }
   ],
   "source": [
    "A = randn(500, 1000)\n",
    "b = A @ randn(1000)\n",
    "I = 100\n",
    "X, err = kaczmarz(A, b, I)\n",
    "\n",
    "plt.figure(figsize=(8, 6))\n",
    "plt.semilogy(np.arange(1, I + 1), err)\n",
    "\n",
    "x_hat = np.dot(np.dot(A.T,np.linalg.inv(np.dot(A,A.T))),b)\n",
    "### x_hat_err = \n",
    "\n",
    "plt.title(f'norm of difference between xhat and Kaczmarz is {np.linalg.norm(x_hat - X[:, -1]):.2e}');"
   ]
  },
  {
   "cell_type": "markdown",
   "metadata": {},
   "source": [
    "### Exercise 4\n",
    "(10 pts program + 5 pts solution)\n",
    "Consider the linear program\n",
    "$$\n",
    "\\min ~ \\underline{c}^T \\underline{x}\n",
    "\\quad \\textrm{subject to} \\quad\n",
    "A \\underline{x} \\ge \\underline{b}, \\quad \\underline{x} \\ge 0\n",
    "$$\n",
    "with\n",
    "$$\n",
    "\\underline{c} = \n",
    "\\begin{bmatrix}\n",
    "    3 \\\\ -1 \\\\ 2\n",
    "\\end{bmatrix}, \\quad\n",
    "A = \n",
    "\\begin{bmatrix}\n",
    "    2 & -1 & 1 \\\\ 1 & 0 & 2 \\\\ -7 & 4 & -6\n",
    "\\end{bmatrix}, \\quad\n",
    "\\underline{b} = \n",
    "\\begin{bmatrix}\n",
    "    -1 \\\\ 2 \\\\ 1\n",
    "\\end{bmatrix}, \\quad\n",
    "$$\n",
    "Let $p^*$ denote the optimum value of this program.\n",
    "Then, $p^* \\le 0$ is satisfied if and only if there is a non-negative $\\underline{x} = (x_1, x_2, x_3)^T$ satisfying\n",
    "$$\n",
    "\\begin{align}\n",
    "2x_1 - x_2 + x_3 &\\ge -1 \\\\\n",
    "x_1 + 2x_3 &\\ge 2 \\\\\n",
    "-7x_1 + 4x_2 - 6x_3 &\\ge 1 \\\\\n",
    "-3x_1 + x_2 - 2x_3 &\\ge 0\n",
    "\\end{align}\n",
    "$$\n",
    "where the last inequality restricts the value of the program to be at most $0$.\n",
    "One can find the optimum value `p` and an optimizer `x` with the command \n",
    "```\n",
    "res = linprog(c, A_ub=-A, b_ub=-b, bounds=[(0, None)] * c.size, method=’interior-point’)\n",
    "x, p = res.x, res.fun\n",
    "```\n",
    "\n",
    "Starting from $\\underline{x}_0 = 0$, write a program that uses alternating projections onto half spaces (see (6)) to find a non-negative vector satisfying the above inequalities. \n",
    "\n",
    "Warning: don’t forget to also project onto the half spaces defined by the non-negativity constraints $ x_1 \\ge 0, x_2 \\ge 0, x_3 \\ge 0 $. \n",
    "\n",
    "Use the result to find a vector that satisfies all the inequalities. \n",
    "How many iterations are required so that the\n",
    "absolute error is at most 0.0001 in each coordinate?"
   ]
  },
  {
   "cell_type": "code",
   "execution_count": 22,
   "metadata": {
    "ExecuteTime": {
     "end_time": "2018-11-24T20:20:10.791150Z",
     "start_time": "2018-11-24T20:20:10.576764Z"
    }
   },
   "outputs": [
    {
     "name": "stdout",
     "output_type": "stream",
     "text": [
      "     con: array([], dtype=float64)\n",
      "     fun: 1.8272050539280826e-12\n",
      " message: 'Optimization terminated successfully.'\n",
      "     nit: 5\n",
      "   slack: array([8.82960371e-13, 3.84137167e-13, 1.00000000e+00])\n",
      "  status: 0\n",
      " success: True\n",
      "       x: array([1.50428214e-12, 2.00000000e+00, 1.00000000e+00])\n"
     ]
    },
    {
     "data": {
      "application/vnd.jupyter.widget-view+json": {
       "model_id": "",
       "version_major": 2,
       "version_minor": 0
      },
      "text/plain": [
       "HBox(children=(IntProgress(value=0, max=3500), HTML(value='')))"
      ]
     },
     "metadata": {},
     "output_type": "display_data"
    },
    {
     "name": "stdout",
     "output_type": "stream",
     "text": [
      "\r",
      "False False\n"
     ]
    },
    {
     "data": {
      "text/plain": [
       "array([0., 2., 1.])"
      ]
     },
     "execution_count": 22,
     "metadata": {},
     "output_type": "execute_result"
    },
    {
     "data": {
      "image/png": "[encoded data removed]",
      "text/plain": [
       "<Figure size 576x432 with 1 Axes>"
      ]
     },
     "metadata": {
      "needs_background": "light"
     },
     "output_type": "display_data"
    }
   ],
   "source": [
    "def lp_altproj(A, b, I, res, s=1):\n",
    "    \"\"\"\n",
    "    Find a feasible solution for A v >= b using alternating projection\n",
    "    with every entry of v0 obeying Uniform[0,1]\n",
    "    Arguments:\n",
    "        A {numpy.ndarray} -- matrix defines the LHS of linear equation\n",
    "        b {numpy.ndarray} -- vector defines the RHS of linear equation\n",
    "        I {int} -- number of full passes through the alternating projection\n",
    "        s {numpy.float} -- step size of projection (defaults to 1)\n",
    "    Returns:\n",
    "        v {numpy.ndarray} -- the output after I full passes\n",
    "        err {numpy.ndarray} -- the error after each full pass\n",
    "    \"\"\"\n",
    "    \n",
    "    # Add code here\n",
    "    m, n= A.shape\n",
    "    v=np.zeros(n)\n",
    "    err=np.zeros(I)\n",
    "    for t in tqdm(range(I * m), total=I*m, leave=False):\n",
    "        ai = A[t%m]\n",
    "        bi = b[t%m]\n",
    "        if (np.dot(v,ai)<bi):\n",
    "            v=v-np.dot(ai,(v.dot(ai)-bi)/(ai.dot(ai)))\n",
    "        if (t + 1) % m == 0:\n",
    "            #err[t // m] = np.linalg.norm(res-v)\n",
    "            err[t // m] = np.amax(abs(res-v))\n",
    "    return v, err\n",
    "c = np.array([3, -1, 2])\n",
    "A = np.array([[2, -1, 1], [1, 0, 2], [-7, 4, -6]])\n",
    "b = np.array([-1, 2, 1])\n",
    "\n",
    "res = linprog(c, A_ub=-A, b_ub=-b, bounds=[(0, None)] * c.size, method='interior-point')\n",
    "print(res)\n",
    "\n",
    "I = 500\n",
    "# Do not forget constraint xi >= 0\n",
    "A1 = np.array([[2, -1, 1], [1, 0, 2], [-7, 4, -6],[-3,1,-2],[1,0,0],[0,1,0],[0,0,1]])\n",
    "b1 = np.array([-1,2,1,0,0,0,0])\n",
    "\n",
    "x, err = lp_altproj(A1, b1 , I, res.x, s=1)\n",
    "\n",
    "plt.figure(figsize=(8, 6))\n",
    "plt.semilogy(np.arange(1, I + 1), err)\n",
    "\n",
    "print(np.all(A @ x - b > 0), np.all(x > 0))\n",
    "x"
   ]
  },
  {
   "cell_type": "markdown",
   "metadata": {},
   "source": [
    "### Exercise 5\n",
    "(10 pts + 5 pts for value and strict feasibililty point)\n",
    "Consider the “random” convex optimization problem defined by\n",
    "```\n",
    "c = randn(1000)\n",
    "A = np.vstack([-np.ones((1, 1000)), randn(500, 1000)])\n",
    "b = np.concatenate([[-1000], A[1:] @ rand(1000)])\n",
    "```\n",
    "Modify $A$ and $b$ (by adding one row and one element) so that your function can be used to prove that the value of the convex optimization problem, in (3), is at most −1000. Try using `I = 1000` passes\n",
    "through all 501 inequality constraints.\n",
    "This type of iteration typically terminates with an “almost feasible” $\\underline{x}$. \n",
    "To find a strictly feasible point, try running the same algorithm with the argument $ \\underline{b} + \\epsilon $ for some small $ \\epsilon > 0 $  (e.g., try $ \\epsilon = {10}^{-6} $).\n",
    "Then, the resulting $ \\underline{x} $ can satisfy `np.all(A @ x - b > 0)`"
   ]
  },
  {
   "cell_type": "code",
   "execution_count": null,
   "metadata": {
    "ExecuteTime": {
     "end_time": "2018-11-24T20:21:09.250431Z",
     "start_time": "2018-11-24T20:20:59.120217Z"
    }
   },
   "outputs": [],
   "source": [
    "np.random.seed(0)\n",
    "c = randn(1000)\n",
    "A = np.vstack([-np.ones((1, 1000)), randn(500, 1000)])\n",
    "b = np.concatenate([[-1000], A[1:] @ rand(1000)])\n",
    "res = linprog(c, A_ub=-A, b_ub=-b, bounds=[(0, None)] *c.size, method='interior-point')\n",
    "I, ep = 1000, 1e-6\n",
    "# Do not forget constraint xi >= 0, and c^T x <= -1000\n",
    "A1 = np.vstack([A,-c,np.identity(1000)])\n",
    "b1 = np.concatenate([b,[1000],np.zeros(1000)])\n",
    "\n",
    "x, err = lp_altproj(A1, b1 + ep, I, res.x)\n",
    "print(np.all(A @ x - b > 0), np.all(x > 0), c.reshape(1, -1) @ x)\n",
    "\n",
    "plt.figure(figsize=(8, 6))\n",
    "plt.semilogy(np.arange(1, I + 1), err)\n",
    "\n",
    "res = linprog(c, A_ub=-A, b_ub=-b, bounds=[(0, None)] * c.size, method='interior-point')\n",
    "print(res.fun)"
   ]
  },
  {
   "cell_type": "markdown",
   "metadata": {},
   "source": [
    "### Exercise 6\n",
    "(10 pts) Repeat the MNIST training exercise from the Least-Squares Handout using the training method described above. \n",
    "First, extract the indices of all the 2’s and randomly separate the samples into equal-sized training and testing groups. \n",
    "Second, do the same for the 3’s. Now, extend each vector to length 785 by appending a −1. This will allow the system to learn a general hyperplane separation.\n",
    "\n",
    "Next, use alternating projections to design a linear classifier to separate for 2’s and 3’s. For the resulting linear function, report the classification error rate and confusion matrices for the both the training and test sets. Is there any benefit to choosing $s<1$? Also, for the test set, compute the histogram of the function output separately for each class and then plot the two histograms together. \n",
    "This shows easy or hard it is to separate the two classes.\n",
    "\n",
    "Depending on your randomized separation into training and test sets, the training data may or may not be linearly separable. \n",
    "Comment on what happens to the test set performance when the error rate does converge to zero for the training set."
   ]
  },
  {
   "cell_type": "code",
   "execution_count": null,
   "metadata": {
    "ExecuteTime": {
     "end_time": "2018-11-24T20:22:31.960345Z",
     "start_time": "2018-11-24T20:22:29.976629Z"
    }
   },
   "outputs": [],
   "source": [
    "# read mnist csv file to a dataframe\n",
    "df = pd.read_csv('mnist_train.csv')\n",
    "# append feature column by merging all pixel columns\n",
    "df['feature'] = df.apply(lambda row: row.values[1:], axis=1)\n",
    "# only keep feature and label column\n",
    "df = df[['feature', 'label']]\n",
    "# display first 5 rows of the dataframe\n",
    "df.head()\n",
    "\n",
    "# Pairwise experiment for LSQ to classify between 0 and 1\n",
    "from sklearn.model_selection import train_test_split\n",
    "from sklearn.metrics import accuracy_score\n",
    "def extract_and_split(df, d, test_size=0.5):\n",
    "    \"\"\"\n",
    "    extract the samples with given labels and randomly separate the samples into training and testing groups, extend each vector to length 785 by appending a −1\n",
    "    Arguments:\n",
    "        df {dataframe} -- the dataframe of MNIST dataset\n",
    "        d {int} -- digit needs to be extracted, can be 0, 1, ..., 9\n",
    "        test_size {float} -- the fraction of testing set, default value is 0.5\n",
    "    Returns:\n",
    "        X_tr {numpy.ndarray} -- training set features, a matrix with 785 columns\n",
    "                                each row corresponds the feature of a sample\n",
    "        y_tr {numpy.ndarray} -- training set labels, 1d-array\n",
    "                                each element corresponds the label of a sample\n",
    "        X_te {numpy.ndarray} -- testing set features, a matrix with 785 columns \n",
    "                                each row corresponds the feature of a sample\n",
    "        y_te {numpy.ndarray} -- testing set labels, 1d-array\n",
    "                                each element corresponds the label of a sample\n",
    "\n",
    "    # Add code here extract data and randomize order\n",
    "    \"\"\"\n",
    "    X=df.loc[df['label']==d,'feature'].values\n",
    "    y=df.loc[df['label']==d,'label'].values\n",
    "    \n",
    "    X_= np.stack(X, axis=0)\n",
    "    X=np.zeros((len(X_),(X_.shape[1]+1)))\n",
    "    for i in range(len(X_)):\n",
    "        for j in range(X_.shape[1]):\n",
    "            X[i,j]=X_[i][j]\n",
    "        X[i,X_.shape[1]]=-1\n",
    "\n",
    "    X_tr, X_te, y_tr, y_te = train_test_split(X, y, test_size=0.5,random_state=0)\n",
    "    return X_tr, X_te, y_tr, y_te  \n",
    "\n",
    "# Function to remove outliers before plotting histogram\n",
    "def remove_outlier(x, thresh=3.5):\n",
    "    \"\"\"\n",
    "    returns points that are not outliers to make histogram prettier\n",
    "    reference: https://stackoverflow.com/questions/11882393/matplotlib-disregard-outliers-when-plotting/11886564\n",
    "    Arguments:\n",
    "        x {numpy.ndarray} -- 1d-array, points to be filtered\n",
    "        thresh {float} -- the modified z-score to use as a threshold. Observations with\n",
    "                          a modified z-score (based on the median absolute deviation) greater\n",
    "                          than this value will be classified as outliers.\n",
    "    Returns:\n",
    "        x_filtered {numpy.ndarray} -- 1d-array, filtered points after dropping outlier\n",
    "    \"\"\"\n",
    "    if len(x.shape) == 1: x = x[:,None]\n",
    "    median = np.median(x, axis=0)\n",
    "    diff = np.sqrt(((x - median)**2).sum(axis=-1))\n",
    "    modified_z_score = 0.6745 * diff / np.median(diff)\n",
    "    x_filtered = x[modified_z_score <= thresh]\n",
    "    return x_filtered\n",
    "\n",
    "## End of helper functions\n",
    "# General function to train and test pairwise classifier for MNIST digits for Exercise 3.2\n",
    "def mnist_pairwise_altproj(df, a, b, test_size=0.5, verbose=False, gd=False):\n",
    "    \"\"\"\n",
    "    Pairwise experiment for applying least-square to classify digit a and digit b\n",
    "    Arguments:\n",
    "        df {dataframe} -- the dataframe of MNIST dataset\n",
    "        a, b {int} -- digits to be classified\n",
    "        test_size {float} -- the fraction of testing set, default value is 0.5\n",
    "        verbose {bool} -- whether to print and plot results\n",
    "    Returns:\n",
    "        res {numpy.ndarray} -- numpy.array([traing error, testing error])\n",
    "    \"\"\"\n",
    "    # Find all samples labeled with digit a and split into train/test sets\n",
    "    Xa_tr, Xa_te, ya_tr, ya_te = extract_and_split(df, a)\n",
    "\n",
    "    # Find all samples labeled with digit b and split into train/test sets\n",
    "    Xb_tr, Xb_te, yb_tr, yb_te = extract_and_split(df, b)\n",
    "\n",
    "    # Construct the full training set\n",
    "    X_tr = np.concatenate((Xa_tr, Xb_tr))\n",
    "    y_tr = np.concatenate((-np.ones_like(ya_tr), np.ones_like(yb_tr)))\n",
    "    \n",
    "    # Construct the full testing set\n",
    "    X_te = np.concatenate((Xa_te, Xb_te))\n",
    "    y_te = np.concatenate((-np.ones_like(ya_te), np.ones_like(yb_te)))\n",
    "    \n",
    "    # Run least-square on training set\n",
    "    A_tilde = (X_tr*np.expand_dims(y_tr,axis=1))\n",
    "    z_hat, err = solver(A_tilde, np.ones(len(y_tr)))\n",
    "\n",
    "        \n",
    "    # Compute estimation and misclassification on training set\n",
    "    y_hat_tr = np.dot(X_tr,z_hat)\n",
    "    for i in range(len(y_hat_tr)):\n",
    "        if y_hat_tr[i]>=0:\n",
    "            y_hat_tr[i]=1\n",
    "        else:\n",
    "            y_hat_tr[i]=-1\n",
    "   \n",
    "    err_tr =1 - accuracy_score(y_tr, y_hat_tr)\n",
    "    \n",
    "    # Compute estimation and misclassification on training set\n",
    "    y_hat_te = np.dot(X_te,z_hat)\n",
    "    for i in range(len(y_hat_te)):\n",
    "        if y_hat_te[i]>=0:\n",
    "            y_hat_te[i]=1\n",
    "        else:\n",
    "            y_hat_te[i]=-1\n",
    "   \n",
    "    err_te = 1 - accuracy_score(y_te, y_hat_te)\n",
    "    \n",
    "    if verbose:\n",
    "        print('Pairwise experiment, mapping {0} to -1, mapping {1} to 1'.format(a, b))\n",
    "        print('training error = {0:.2f}%, testing error = {1:.2f}%'.format(100 * err_tr, 100 * err_te))\n",
    "        \n",
    "        # Compute confusion matrix\n",
    "        cm = np.zeros((2, 2), dtype=np.int64)\n",
    "        cm[0, 0] = ((y_te == -1) & (y_hat_te == -1)).sum()\n",
    "        cm[0, 1] = ((y_te == -1) & (y_hat_te == 1)).sum()\n",
    "        cm[1, 0] = ((y_te == 1) & (y_hat_te == -1)).sum()\n",
    "        cm[1, 1] = ((y_te == 1) & (y_hat_te == 1)).sum()\n",
    "        print('Confusion matrix:\\n {0}'.format(cm))\n",
    "\n",
    "        # Compute the histogram of the function output separately for each class \n",
    "        # Then plot the two histograms together\n",
    "        ya_te_hat, yb_te_hat = Xa_te @ z_hat, Xb_te @ z_hat\n",
    "        output = [remove_outlier(ya_te_hat), remove_outlier(yb_te_hat)]\n",
    "        plt.figure(figsize=(8, 4))\n",
    "        plt.hist(output, bins=50)\n",
    "    \n",
    "    res = np.array([err_tr, err_te])\n",
    "    return res\n",
    "\n",
    "solver = lambda A, b: lp_altproj(A, b + 1e-6, 100,np.zeros(785), 1)\n",
    "z_hat, res = mnist_pairwise_altproj(df, 0, 1, solver, verbose=True)"
   ]
  },
  {
   "cell_type": "markdown",
   "metadata": {},
   "source": [
    "### Exercise 7\n",
    "(10 pts program + 10 pts solution)\n",
    "Describe how this approach should be extended to multi-class linear classification\n",
    "(parameterized by $ Z \\in \\mathbb{R}^{n \\times d} $) where the classifier maps a vector $\\underline{v}$ to class $j$ if the $j$-th element\n",
    "of $ Z^T \\underline{v} $ is the largest element in the vector. \n",
    "Use the implied alternating-projection solution to design a multi-class classifier for MNIST.\n",
    "Is there any benefit to choosing $s<1$?"
   ]
  },
  {
   "cell_type": "code",
   "execution_count": null,
   "metadata": {
    "ExecuteTime": {
     "end_time": "2018-11-19T22:00:50.719775Z",
     "start_time": "2018-11-19T21:57:06.809844Z"
    }
   },
   "outputs": [],
   "source": [
    "\n",
    "from sklearn.model_selection import train_test_split\n",
    "def mnist_multiclass_altproj(df, solver, test_size=0.5):\n",
    "\n",
    "#tr, te = \n",
    "\n",
    "# Construct the training set\n",
    "\n",
    "# Construct the testing set\n",
    "\n",
    "    X=df ['feature'].values\n",
    "    y=df ['label'].values\n",
    "    X_= np.stack(X, axis=0)\n",
    "    X=np.zeros((len(X_),(X_.shape[1]+1)))\n",
    "    for i in range(len(X_)):\n",
    "        for j in range(X_.shape[1]):\n",
    "            X[i,j]=X_[i][j]\n",
    "        X[i,X_.shape[1]]=-1\n",
    "\n",
    "    X_tr, X_te, y_tr, y_te = train_test_split(X, y, test_size=0.5)\n",
    "\n",
    "\n",
    "    \n",
    "    # Apply one-hot encoding to training labels\n",
    "    Y = np.zeros((y_tr.shape[0],10))\n",
    "    for i in range(y_tr.shape[0]):\n",
    "        for j in range(10):\n",
    "            if (y_tr[i]==j):\n",
    "                Y[i,j]=1\n",
    "    # Run least-square on training set\n",
    "    for i in range(10):\n",
    "        if i==0:\n",
    "            A_tilde = np.multiply(X_tr, Y[:,0][:, np.newaxis])\n",
    "        else:\n",
    "            A_tilde = np.concatenate((A_tilde, np.multiply(X_tr, Y[:,i][:, np.newaxis])),axis=1)\n",
    "    A_new=np.zeros((10*y_tr.shape[0],7850))\n",
    "    for i in range(10*y_tr.shape[0]):\n",
    "        for j in range((i%10)*785,(i%10)*785+785):\n",
    "            A_new[i][j]=A_tilde[i//10][j]\n",
    "            \n",
    "    \n",
    "    b_tilde = np.ones(10*y_tr.shape[0])\n",
    "        \n",
    "    Z, err = solver(A_new, b_tilde)\n",
    "    Z = (Z.reshape((10,785))).T\n",
    "\n",
    "    # Compute estimation and misclassification on training set\n",
    "    y_hat_tr = np.dot(X_tr,Z).argmax(axis=1)\n",
    "\n",
    "    err_tr = 1 - np.mean(y_tr == y_hat_tr)    \n",
    "\n",
    "\n",
    "    # Compute estimation and misclassification on training set\n",
    "    y_hat_te = np.dot(X_te,Z).argmax(axis=1)\n",
    "\n",
    "    err_te = 1 - np.mean(y_te == y_hat_te)\n",
    "    print('training error = {0:.2f}%, testing error = {1:.2f}%'.format(100 * err_tr, 100 * err_te))\n",
    "    # Compute confusion matrix\n",
    "    cm = np.zeros((10, 10), dtype=np.int64)\n",
    "    for a in range(10):\n",
    "        for b in range(10):\n",
    "            cm[a, b] = ((y_te == a) & (y_hat_te == b)).sum()\n",
    "    print('Confusion matrix:\\n {0}'.format(cm))\n",
    "    return Z, res\n",
    "\n",
    "solver = lambda A, b: lp_altproj(A, b + 1e-6, 100, np.zeros(7850))\n",
    "Z, res = mnist_multiclass_altproj(df, solver)"
   ]
  },
  {
   "cell_type": "markdown",
   "metadata": {},
   "source": [
    "### Exercise 8\n",
    "(optional)\n",
    "Let $ V = \\mathbb{R}^2 $ and consider the orthogonal projection of $ \\underline{u} = (1, -2) $ onto the intersection of\n",
    "$$\n",
    "\\begin{align}\n",
    "    C_1 &= \\left\\{ \\underline{v} \\in V \\,\\mid\\, v_2 \\ge 0 \\right\\} \\\\\n",
    "    C_2 &= \\left\\{ \\underline{v} \\in V \\,\\mid\\, v_1^2 + \\left(v_2 - \\frac{\\sqrt{3}}{2}\\right)^2 \\le 1 \\right\\}\n",
    "\\end{align}\n",
    "$$\n",
    "Draw a picture illustrating the algernating projections (without Dykstra's modification) defined by: $ P_{C_2}(P_{C_1}(\\underline{u})) $ and $ P_{C_1}(P_{C_2}(\\underline{u})) $.\n",
    "Does either give the desired result $ P_{C_1 \\cap C_2}(\\underline{u}) $?\n",
    "Now, try Dykstra's algorithm using both orders and 4 iterations.\n",
    "Are these approaching $ P_{C_1 \\cap C_2}(\\underline{u}) $?"
   ]
  },
  {
   "cell_type": "code",
   "execution_count": null,
   "metadata": {},
   "outputs": [],
   "source": []
  },
  {
   "cell_type": "code",
   "execution_count": 23,
   "metadata": {},
   "outputs": [
    {
     "data": {
      "application/vnd.jupyter.widget-view+json": {
       "model_id": "",
       "version_major": 2,
       "version_minor": 0
      },
      "text/plain": [
       "HBox(children=(IntProgress(value=0, max=10), HTML(value='')))"
      ]
     },
     "metadata": {},
     "output_type": "display_data"
    },
    {
     "name": "stdout",
     "output_type": "stream",
     "text": [
      "\r",
      "altproj Example 1 err:\n",
      " [1.0752     0.99090432 0.91321742 0.84162118 0.77563808]\n",
      "altproj Example 1:v\n",
      " [0.58172856 0.77563808] \n",
      "\n"
     ]
    },
    {
     "data": {
      "application/vnd.jupyter.widget-view+json": {
       "model_id": "",
       "version_major": 2,
       "version_minor": 0
      },
      "text/plain": [
       "HBox(children=(IntProgress(value=0, max=10000), HTML(value='')))"
      ]
     },
     "metadata": {},
     "output_type": "display_data"
    },
    {
     "name": "stdout",
     "output_type": "stream",
     "text": [
      "\r",
      "altproj Example 2 err:\n",
      " 3.3587408979185076\n",
      "altproj Example 2 v:\n",
      " [5.80196883 5.7414081  5.80196883 4.7037591  5.80196883] \n",
      "\n"
     ]
    },
    {
     "data": {
      "application/vnd.jupyter.widget-view+json": {
       "model_id": "",
       "version_major": 2,
       "version_minor": 0
      },
      "text/plain": [
       "HBox(children=(IntProgress(value=0, max=80000), HTML(value='')))"
      ]
     },
     "metadata": {},
     "output_type": "display_data"
    },
    {
     "name": "stdout",
     "output_type": "stream",
     "text": [
      "\r",
      "altproj Example 3 err:\n",
      " 0.02087192261589621\n",
      "altproj Example 3 v:\n",
      " [2.70685396 5.37727694 2.70685396 8.04162808 2.70685396] \n",
      "\n"
     ]
    },
    {
     "data": {
      "application/vnd.jupyter.widget-view+json": {
       "model_id": "",
       "version_major": 2,
       "version_minor": 0
      },
      "text/plain": [
       "HBox(children=(IntProgress(value=0, max=40), HTML(value='')))"
      ]
     },
     "metadata": {},
     "output_type": "display_data"
    },
    {
     "name": "stdout",
     "output_type": "stream",
     "text": [
      "\r",
      "kaczmarz Example 4 err:\n",
      " 0.028524403942799426\n",
      "kaczmarz Example 4 X:\n",
      " [-0.13512375  0.0941078  -0.13512375  0.39621042 -0.13512375] \n",
      "\n"
     ]
    },
    {
     "data": {
      "application/vnd.jupyter.widget-view+json": {
       "model_id": "",
       "version_major": 2,
       "version_minor": 0
      },
      "text/plain": [
       "HBox(children=(IntProgress(value=0, max=60), HTML(value='')))"
      ]
     },
     "metadata": {},
     "output_type": "display_data"
    },
    {
     "name": "stdout",
     "output_type": "stream",
     "text": [
      "\r",
      "kaczmarz Example 5 err:\n",
      " 0.01468037281401613\n",
      "kaczmarz Example 5 X:\n",
      " [-0.03184633 -0.03805198  0.04546457  0.02235128  0.04669109  0.108116  ] \n",
      "\n"
     ]
    },
    {
     "ename": "TypeError",
     "evalue": "lp_altproj() missing 1 required positional argument: 'res'",
     "output_type": "error",
     "traceback": [
      "\u001b[0;31m---------------------------------------------------------------------------\u001b[0m",
      "\u001b[0;31mTypeError\u001b[0m                                 Traceback (most recent call last)",
      "\u001b[0;32m<ipython-input-23-5f816c010f72>\u001b[0m in \u001b[0;36m<module>\u001b[0;34m\u001b[0m\n\u001b[1;32m     94\u001b[0m \u001b[0mA\u001b[0m \u001b[0;34m=\u001b[0m \u001b[0mnp\u001b[0m\u001b[0;34m.\u001b[0m\u001b[0marray\u001b[0m\u001b[0;34m(\u001b[0m\u001b[0;34m[\u001b[0m\u001b[0;34m[\u001b[0m\u001b[0;34m-\u001b[0m\u001b[0;36m2\u001b[0m\u001b[0;34m,\u001b[0m \u001b[0;36m1\u001b[0m\u001b[0;34m]\u001b[0m\u001b[0;34m,\u001b[0m\u001b[0;34m[\u001b[0m\u001b[0;36m1\u001b[0m\u001b[0;34m,\u001b[0m \u001b[0;34m-\u001b[0m\u001b[0;36m2\u001b[0m\u001b[0;34m]\u001b[0m\u001b[0;34m]\u001b[0m\u001b[0;34m)\u001b[0m\u001b[0;34m\u001b[0m\u001b[0;34m\u001b[0m\u001b[0m\n\u001b[1;32m     95\u001b[0m \u001b[0mb\u001b[0m \u001b[0;34m=\u001b[0m \u001b[0mnp\u001b[0m\u001b[0;34m.\u001b[0m\u001b[0marray\u001b[0m\u001b[0;34m(\u001b[0m\u001b[0;34m[\u001b[0m\u001b[0;36m2\u001b[0m\u001b[0;34m,\u001b[0m\u001b[0;36m2\u001b[0m\u001b[0;34m]\u001b[0m\u001b[0;34m)\u001b[0m\u001b[0;34m\u001b[0m\u001b[0;34m\u001b[0m\u001b[0m\n\u001b[0;32m---> 96\u001b[0;31m \u001b[0mv\u001b[0m\u001b[0;34m,\u001b[0m \u001b[0merr\u001b[0m \u001b[0;34m=\u001b[0m \u001b[0mlp_altproj\u001b[0m\u001b[0;34m(\u001b[0m\u001b[0mA\u001b[0m\u001b[0;34m,\u001b[0m \u001b[0mb\u001b[0m\u001b[0;34m,\u001b[0m \u001b[0;36m10\u001b[0m\u001b[0;34m)\u001b[0m\u001b[0;34m\u001b[0m\u001b[0;34m\u001b[0m\u001b[0m\n\u001b[0m\u001b[1;32m     97\u001b[0m \u001b[0mprint\u001b[0m\u001b[0;34m(\u001b[0m\u001b[0;34m\"lp_altproj Example 6 err:\\n\"\u001b[0m\u001b[0;34m,\u001b[0m\u001b[0merr\u001b[0m\u001b[0;34m[\u001b[0m\u001b[0;34m-\u001b[0m\u001b[0;36m1\u001b[0m\u001b[0;34m]\u001b[0m\u001b[0;34m)\u001b[0m\u001b[0;34m\u001b[0m\u001b[0;34m\u001b[0m\u001b[0m\n\u001b[1;32m     98\u001b[0m \u001b[0mprint\u001b[0m\u001b[0;34m(\u001b[0m\u001b[0;34m\"lp_altproj Example 6 v:\\n\"\u001b[0m\u001b[0;34m,\u001b[0m\u001b[0mv\u001b[0m\u001b[0;34m,\u001b[0m\u001b[0;34m\"\\n\"\u001b[0m\u001b[0;34m)\u001b[0m\u001b[0;34m\u001b[0m\u001b[0;34m\u001b[0m\u001b[0m\n",
      "\u001b[0;31mTypeError\u001b[0m: lp_altproj() missing 1 required positional argument: 'res'"
     ]
    }
   ],
   "source": [
    "import numpy as np\n",
    "import pandas as pd\n",
    "#from altproj_code import altproj, kaczmarz, lp_altproj\n",
    "\n",
    "#\n",
    "# Desired output of this script\n",
    "# -----------------------------\n",
    "#\n",
    "# altproj Example 1 err:\n",
    "#  [1.0752     0.99090432 0.91321742 0.84162118 0.77563808]\n",
    "# altproj Example 1:v\n",
    "#  [0.58172856 0.77563808] \n",
    "#\n",
    "# altproj Example 2 err:\n",
    "#  3.3587408979332825\n",
    "# altproj Example 2 v:\n",
    "#  [5.80196883 5.7414081  5.80196883 4.7037591  5.80196883] \n",
    "#\n",
    "# altproj Example 3 err:\n",
    "#  0.020871922644255747\n",
    "# altproj Example 3 v:\n",
    "#  [2.70685396 5.37727694 2.70685396 8.04162808 2.70685396] \n",
    "#\n",
    "# kaczmarz Example 4 err:\n",
    "#  0.028524403942799426\n",
    "# kaczmarz Example 4 X:\n",
    "#  [-0.13512375  0.0941078  -0.13512375  0.39621042 -0.13512375] \n",
    "#\n",
    "# kaczmarz Example 5 err:\n",
    "#  0.01468037281401613\n",
    "# kaczmarz Example 5 X:\n",
    "#  [-0.03184633 -0.03805198  0.04546457  0.02235128  0.04669109  0.108116  ] \n",
    "#\n",
    "#\n",
    "\n",
    "### If you project on x >= 0 constraints only after each full pass\n",
    "# lp_altproj Example 6 err:\n",
    "#  0.05188146770730828\n",
    "# lp_altproj Example 6 v:\n",
    "#  [-1.96541235 -1.98270618] \n",
    "#\n",
    "# lp_altproj Example 7 err:\n",
    "#  0.7250551085496868\n",
    "# lp_altproj Example 7 v:\n",
    "#  [2.01660003 1.81980856 1.62730644] \n",
    "\n",
    "### If you project on x >= 0 constraints after each row of A\n",
    "# lp_altproj Example 6 err:\n",
    "#  3.333333318673178\n",
    "# lp_altproj Example 6 v:\n",
    "#  [0.66666666 0.        ] \n",
    "#\n",
    "# lp_altproj Example 7 err:\n",
    "#  0.6566929819164207\n",
    "# lp_altproj Example 7 v:\n",
    "#  [2.02850424 1.83679799 1.64897667] \n",
    "\n",
    "\n",
    "# Test altproj\n",
    "A = np.array([[4, 3]]).T\n",
    "B = np.array([[3, 4]]).T\n",
    "v0 = np.array([1, 1])\n",
    "n = 5\n",
    "v, err = altproj(A, B, v0, n)\n",
    "print(\"altproj Example 1 err:\\n\",err)\n",
    "print(\"altproj Example 1:v\\n\",v,\"\\n\")\n",
    "\n",
    "A = np.array([[1, 2, 1, 3, 1],[6, 7, 6, 7, 6]]).T\n",
    "B = np.array([[1, 2, 1, 3, 1],[7, 8, 7, 8, 7]]).T\n",
    "v0 = np.array([10, 2, 10, 3, 10])\n",
    "n = 5000\n",
    "v, err = altproj(A, B, v0, n)\n",
    "print(\"altproj Example 2 err:\\n\",err[-1])\n",
    "print(\"altproj Example 2 v:\\n\",v,\"\\n\")\n",
    "n = 40000\n",
    "v, err = altproj(A, B, v0, n)\n",
    "print(\"altproj Example 3 err:\\n\",err[-1])\n",
    "print(\"altproj Example 3 v:\\n\",v,\"\\n\")\n",
    "\n",
    "# Test kaczmarz\n",
    "A = np.array([[1, 2, 1, 3, 1],[6, 7, 6, 7, 6]])\n",
    "b = np.array([1, 1])\n",
    "X, err = kaczmarz(A, b, 20)\n",
    "print(\"kaczmarz Example 4 err:\\n\",err[-1])\n",
    "print(\"kaczmarz Example 4 X:\\n\",X[:,-1],\"\\n\")\n",
    "\n",
    "A = np.array([[4, 2, 7, 3, 1, 7],[6, 7, 6, 7, 6, 7],[1, 2, 3, 4, 5, 6]])\n",
    "b = np.array([1, 1, 1])\n",
    "X, err = kaczmarz(A, b, 20)\n",
    "print(\"kaczmarz Example 5 err:\\n\",err[-1])\n",
    "print(\"kaczmarz Example 5 X:\\n\",X[:,-1],\"\\n\")\n",
    "\n",
    "# Test lp_altproj\n",
    "A = np.array([[-2, 1],[1, -2]])\n",
    "b = np.array([2,2])\n",
    "v, err = lp_altproj(A, b, 10)\n",
    "print(\"lp_altproj Example 6 err:\\n\",err[-1])\n",
    "print(\"lp_altproj Example 6 v:\\n\",v,\"\\n\")\n",
    "\n",
    "A = np.array([[-4, 3,3],[3, -4, 3],[3, 3, -4]])\n",
    "b = np.array([3,4,5])\n",
    "v, err = lp_altproj(A, b, 10)\n",
    "print(\"lp_altproj Example 7 err:\\n\",err[-1])\n",
    "print(\"lp_altproj Example 7 v:\\n\",v,\"\\n\")"
   ]
  },
  {
   "cell_type": "code",
   "execution_count": null,
   "metadata": {},
   "outputs": [],
   "source": []
  }
 ],
 "metadata": {
  "hide_input": false,
  "kernelspec": {
   "display_name": "Python 3",
   "language": "python",
   "name": "python3"
  },
  "language_info": {
   "codemirror_mode": {
    "name": "ipython",
    "version": 3
   },
   "file_extension": ".py",
   "mimetype": "text/x-python",
   "name": "python",
   "nbconvert_exporter": "python",
   "pygments_lexer": "ipython3",
   "version": "3.7.4"
  },
  "varInspector": {
   "cols": {
    "lenName": 16,
    "lenType": 16,
    "lenVar": 40
   },
   "kernels_config": {
    "python": {
     "delete_cmd_postfix": "",
     "delete_cmd_prefix": "del ",
     "library": "var_list.py",
     "varRefreshCmd": "print(var_dic_list())"
    },
    "r": {
     "delete_cmd_postfix": ") ",
     "delete_cmd_prefix": "rm(",
     "library": "var_list.r",
     "varRefreshCmd": "cat(var_dic_list()) "
    }
   },
   "position": {
    "height": "361px",
    "left": "1068px",
    "right": "20px",
    "top": "120px",
    "width": "350px"
   },
   "types_to_exclude": [
    "module",
    "function",
    "builtin_function_or_method",
    "instance",
    "_Feature"
   ],
   "window_display": false
  }
 },
 "nbformat": 4,
 "nbformat_minor": 2
}
